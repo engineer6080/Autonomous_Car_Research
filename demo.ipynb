{
 "cells": [
  {
   "cell_type": "markdown",
   "metadata": {},
   "source": [
    "### Testing the models"
   ]
  },
  {
   "cell_type": "code",
   "execution_count": 1,
   "metadata": {},
   "outputs": [
    {
     "name": "stderr",
     "output_type": "stream",
     "text": [
      "Using TensorFlow backend.\n",
      "/home/vikram/.local/lib/python3.6/site-packages/tensorflow/python/framework/dtypes.py:526: FutureWarning: Passing (type, 1) or '1type' as a synonym of type is deprecated; in a future version of numpy, it will be understood as (type, (1,)) / '(1,)type'.\n",
      "  _np_qint8 = np.dtype([(\"qint8\", np.int8, 1)])\n",
      "/home/vikram/.local/lib/python3.6/site-packages/tensorflow/python/framework/dtypes.py:527: FutureWarning: Passing (type, 1) or '1type' as a synonym of type is deprecated; in a future version of numpy, it will be understood as (type, (1,)) / '(1,)type'.\n",
      "  _np_quint8 = np.dtype([(\"quint8\", np.uint8, 1)])\n",
      "/home/vikram/.local/lib/python3.6/site-packages/tensorflow/python/framework/dtypes.py:528: FutureWarning: Passing (type, 1) or '1type' as a synonym of type is deprecated; in a future version of numpy, it will be understood as (type, (1,)) / '(1,)type'.\n",
      "  _np_qint16 = np.dtype([(\"qint16\", np.int16, 1)])\n",
      "/home/vikram/.local/lib/python3.6/site-packages/tensorflow/python/framework/dtypes.py:529: FutureWarning: Passing (type, 1) or '1type' as a synonym of type is deprecated; in a future version of numpy, it will be understood as (type, (1,)) / '(1,)type'.\n",
      "  _np_quint16 = np.dtype([(\"quint16\", np.uint16, 1)])\n",
      "/home/vikram/.local/lib/python3.6/site-packages/tensorflow/python/framework/dtypes.py:530: FutureWarning: Passing (type, 1) or '1type' as a synonym of type is deprecated; in a future version of numpy, it will be understood as (type, (1,)) / '(1,)type'.\n",
      "  _np_qint32 = np.dtype([(\"qint32\", np.int32, 1)])\n",
      "/home/vikram/.local/lib/python3.6/site-packages/tensorflow/python/framework/dtypes.py:535: FutureWarning: Passing (type, 1) or '1type' as a synonym of type is deprecated; in a future version of numpy, it will be understood as (type, (1,)) / '(1,)type'.\n",
      "  np_resource = np.dtype([(\"resource\", np.ubyte, 1)])\n"
     ]
    },
    {
     "name": "stdout",
     "output_type": "stream",
     "text": [
      "WARNING:tensorflow:From /home/vikram/.local/lib/python3.6/site-packages/tensorflow/python/ops/resource_variable_ops.py:435: colocate_with (from tensorflow.python.framework.ops) is deprecated and will be removed in a future version.\n",
      "Instructions for updating:\n",
      "Colocations handled automatically by placer.\n",
      "WARNING:tensorflow:From /home/vikram/.local/lib/python3.6/site-packages/tensorflow/python/ops/math_ops.py:3066: to_int32 (from tensorflow.python.ops.math_ops) is deprecated and will be removed in a future version.\n",
      "Instructions for updating:\n",
      "Use tf.cast instead.\n",
      "Model: \"model_1\"\n",
      "_________________________________________________________________\n",
      "Layer (type)                 Output Shape              Param #   \n",
      "=================================================================\n",
      "input (InputLayer)           (None, 66, 200, 3)        0         \n",
      "_________________________________________________________________\n",
      "conv2d_1 (Conv2D)            (None, 31, 98, 24)        1824      \n",
      "_________________________________________________________________\n",
      "conv2d_2 (Conv2D)            (None, 14, 47, 36)        21636     \n",
      "_________________________________________________________________\n",
      "conv2d_3 (Conv2D)            (None, 5, 22, 48)         43248     \n",
      "_________________________________________________________________\n",
      "conv2d_4 (Conv2D)            (None, 3, 20, 64)         27712     \n",
      "_________________________________________________________________\n",
      "conv2d_5 (Conv2D)            (None, 1, 18, 64)         36928     \n",
      "_________________________________________________________________\n",
      "flatten_1 (Flatten)          (None, 1152)              0         \n",
      "_________________________________________________________________\n",
      "dense_1 (Dense)              (None, 100)               115300    \n",
      "_________________________________________________________________\n",
      "dense_2 (Dense)              (None, 50)                5050      \n",
      "_________________________________________________________________\n",
      "dense_3 (Dense)              (None, 10)                510       \n",
      "_________________________________________________________________\n",
      "dense_4 (Dense)              (None, 1)                 11        \n",
      "=================================================================\n",
      "Total params: 252,219\n",
      "Trainable params: 252,219\n",
      "Non-trainable params: 0\n",
      "_________________________________________________________________\n"
     ]
    }
   ],
   "source": [
    "%matplotlib inline \n",
    "%load_ext autoreload\n",
    "%autoreload 2\n",
    "\n",
    "import time\n",
    "from approxeng.input.selectbinder import ControllerResource\n",
    "from IPython.display import display, clear_output\n",
    "from jetcam.utils import bgr8_to_jpeg\n",
    "import numpy as np\n",
    "import cv2\n",
    "import ipywidgets\n",
    "import serial\n",
    "\n",
    "from keras.models import load_model\n",
    "\n",
    "# load model. options: PID, DQN, NVIDIA\n",
    "CHOICE = \"NVIDIA\"\n",
    "cv_param = 1\n",
    "cv_width = 244\n",
    "cv_height = 244\n",
    "\n",
    "if(CHOICE == \"PID\"):\n",
    "    model = CV_IMG_PROCESSOR()\n",
    "elif(CHOICE == \"DQN\"):\n",
    "    model = load_model('./model/DQN_best.h5')\n",
    "    cv_param = 0\n",
    "elif(CHOICE == \"NVIDIA\"):\n",
    "    model = load_model('./model/Nvidia_final.h5')\n",
    "    \n",
    "# summarize model.\n",
    "model.summary()"
   ]
  },
  {
   "cell_type": "code",
   "execution_count": 2,
   "metadata": {},
   "outputs": [],
   "source": [
    "from camera import Camera\n",
    "width = int(244)\n",
    "height = int(244)\n",
    "camera = Camera(width=width, height=height, capture_width=1280, capture_height=720, capture_fps=60, capture_flip=2)"
   ]
  },
  {
   "cell_type": "code",
   "execution_count": 3,
   "metadata": {},
   "outputs": [],
   "source": [
    "def getAction():\n",
    "        img = camera.value\n",
    "        action = None\n",
    "        \n",
    "        if(CHOICE == \"PID\"):\n",
    "            action = main_cv.getSteering(img,\"canny\")\n",
    "            preview_img = main_cv.preview_img\n",
    "        elif(CHOICE == \"DQN\"):\n",
    "            img2 = cv2.cvtColor(img.copy(), cv2.COLOR_BGR2GRAY)\n",
    "            preview_img = cv2.resize(img2, (80,80))\n",
    "            act_values = model.predict(car_agent.conv_to_tensor(preview_img/255))\n",
    "            action = np.argmax(act_values[0])*10\n",
    "        elif(CHOICE == \"NVIDIA\"):\n",
    "            img2 = cv2.cvtColor(img.copy(), cv2.COLOR_RGB2YUV)\n",
    "            preview_img = cv2.resize(img2, (200,66))\n",
    "            img2 = np.expand_dims(preview_img, axis=0)\n",
    "            action = model.predict(img2/255) \n",
    "        else:\n",
    "            print(\"ERR\")\n",
    "            action = -1\n",
    "            \n",
    "        return action, preview_img"
   ]
  },
  {
   "cell_type": "code",
   "execution_count": 4,
   "metadata": {},
   "outputs": [
    {
     "name": "stdout",
     "output_type": "stream",
     "text": [
      "[[86.79137]]\n"
     ]
    }
   ],
   "source": [
    "action, _ = getAction()\n",
    "print(action)"
   ]
  },
  {
   "cell_type": "code",
   "execution_count": 26,
   "metadata": {},
   "outputs": [
    {
     "data": {
      "application/vnd.jupyter.widget-view+json": {
       "model_id": "57295be70e194f7d892d0d0da5bb172f",
       "version_major": 2,
       "version_minor": 0
      },
      "text/plain": [
       "Image(value=b'', format='jpeg', height='122.0', width='200')"
      ]
     },
     "metadata": {},
     "output_type": "display_data"
    },
    {
     "name": "stdout",
     "output_type": "stream",
     "text": [
      "AGENT ACTIVE\n",
      "AUTO_THROTTLE ON\n",
      "AUTO_THROTTLE OFF\n",
      "EXIT\n",
      "average(sec):0.01, fps:68.31\n"
     ]
    }
   ],
   "source": [
    "from approxeng.input.selectbinder import ControllerResource\n",
    "from IPython.display import display, clear_output\n",
    "import random as rn\n",
    "import serial\n",
    "import math\n",
    "\n",
    "widget_test = ipywidgets.Image(format='jpeg', width=width, height=height/2)\n",
    "display(widget_test)\n",
    "RECORD = False\n",
    "BENCHMARK = True\n",
    "SHOW_LIVE = True\n",
    "times = []\n",
    "Frames = []\n",
    "speeds = []\n",
    "\n",
    "# PI Cam 160 FOV 60 FPS @ 1280x720 (GSTREAMER SAYS 120?)\n",
    "with serial.Serial('/dev/ttyUSB0', 1000000, timeout=1) as ser:\n",
    "    with ControllerResource() as joystick:\n",
    "        # Initialize\n",
    "        STEERING = 90\n",
    "        THROTTLE = 90\n",
    "        speed = 0\n",
    "        ACTIVE = False\n",
    "        AUTO_THROTTLE = False\n",
    "        times = []\n",
    "        \n",
    "        while joystick.connected:\n",
    "            if(BENCHMARK):\n",
    "                start_time = time.time()\n",
    "                \n",
    "            if(joystick['cross'] is not None):  # SQUARE EXIT\n",
    "                print(\"EXIT\")\n",
    "                ser.close()\n",
    "                break\n",
    "                \n",
    "            if(joystick['triangle'] is not None):  # TRIANGLE TOGGLE AGENT\n",
    "                if(ACTIVE):\n",
    "                    print(\"AGENT OFF\")\n",
    "                    ACTIVE = False   \n",
    "                else:\n",
    "                    print(\"AGENT ACTIVE\")\n",
    "                    ACTIVE = True\n",
    "                time.sleep(0.2)\n",
    "                \n",
    "            if(joystick['square'] is not None):# LB for auto-throttle\n",
    "                if(AUTO_THROTTLE):\n",
    "                    print(\"AUTO_THROTTLE OFF\")\n",
    "                    AUTO_THROTTLE = False\n",
    "                else:\n",
    "                    print(\"AUTO_THROTTLE ON\")\n",
    "                    AUTO_THROTTLE = True\n",
    "                time.sleep(0.2)\n",
    "                \n",
    "            action, preview_img = getAction()\n",
    "            \n",
    "            # Default\n",
    "            THROTTLE = int((joystick['ly']+1)/2*180)\n",
    "            STEERING = int((joystick['rx']+1)/2*180)\n",
    "            \n",
    "            if(ACTIVE):\n",
    "                STEERING = action\n",
    "            if(AUTO_THROTTLE):\n",
    "                THROTTLE = int(-160)\n",
    "                \n",
    "            # Manual intervention\n",
    "            if(joystick['l1'] is not None):# L trigger for manual\n",
    "                STEERING = int((joystick['rx']+1)/2*180)\n",
    "                THROTTLE = int((joystick['ly']+1)/2*180)\n",
    "                \n",
    "            if(SHOW_LIVE):\n",
    "                output = \"{:05d}-{:05d}\\n\".format(int(THROTTLE), int(STEERING))\n",
    "                ser.write(bytes(output,'utf-8'))\n",
    "                speed_in = (ser.readline())\n",
    "                if speed_in:\n",
    "                    speed = int(speed_in)\n",
    "                    \n",
    "                info_str = \"SPEED {:1d} ACTION {:1d}\".format(speed, int(action))\n",
    "                preview = preview_img\n",
    "                cv2.putText(preview, info_str, (0, 15), cv2.FONT_HERSHEY_SIMPLEX, 0.3, (255, 0, 0))\n",
    "                widget_test.value = bgr8_to_jpeg(preview)\n",
    "                \n",
    "                if(RECORD):\n",
    "                    Frames.append(preview)\n",
    "                    speeds.append(speed)\n",
    "\n",
    "            if(BENCHMARK):\n",
    "                delta = (time.time() - start_time)\n",
    "                times.append(delta)\n",
    "            \n",
    "if(BENCHMARK):\n",
    "    mean_delta = np.array(times).mean()\n",
    "    fps = 1 / mean_delta\n",
    "    vid_fps = math.ceil(fps)\n",
    "    print('average(sec):{:.2f}, fps:{:.2f}'.format(mean_delta, fps))"
   ]
  },
  {
   "cell_type": "code",
   "execution_count": 24,
   "metadata": {},
   "outputs": [
    {
     "name": "stdout",
     "output_type": "stream",
     "text": [
      "NVIDIA_18-12-19_01:46.avi 34\n",
      "200 66\n"
     ]
    },
    {
     "data": {
      "application/vnd.jupyter.widget-view+json": {
       "model_id": "299c3f34f0a541e8ba41633d74922884",
       "version_major": 2,
       "version_minor": 0
      },
      "text/plain": [
       "Image(value=b'', format='jpeg', height='122.0', width='200')"
      ]
     },
     "metadata": {},
     "output_type": "display_data"
    }
   ],
   "source": [
    "import datetime\n",
    "\n",
    "x = datetime.datetime.now()\n",
    "filename = x.strftime(\"{}_%d-%m-%y_%H:%M.avi\").format(CHOICE)\n",
    "print(filename, vid_fps)\n",
    "\n",
    "pic_shape = np.shape(preview)\n",
    "cv_width = pic_shape[1]\n",
    "cv_height = pic_shape[0]\n",
    "print(cv_width, cv_height)\n",
    "\n",
    "preview_widget = ipywidgets.Image(format='jpeg', width=width, height=height/2)\n",
    "display(preview_widget)\n",
    "\n",
    "out = cv2.VideoWriter(filename,cv2.VideoWriter_fourcc(*\"MJPG\"), vid_fps,(cv_width,cv_height), cv_param)\n",
    "for f in Frames:\n",
    "    out.write(f.astype('uint8'))\n",
    "    preview_widget.value = bgr8_to_jpeg(f)\n",
    "    \n",
    "out.release()"
   ]
  },
  {
   "cell_type": "code",
   "execution_count": null,
   "metadata": {},
   "outputs": [],
   "source": [
    "camera.unobserve_all() \n",
    "camera.stop()"
   ]
  },
  {
   "cell_type": "code",
   "execution_count": null,
   "metadata": {},
   "outputs": [],
   "source": []
  },
  {
   "cell_type": "code",
   "execution_count": null,
   "metadata": {},
   "outputs": [],
   "source": []
  }
 ],
 "metadata": {
  "kernelspec": {
   "display_name": "Python 3",
   "language": "python",
   "name": "python3"
  },
  "language_info": {
   "codemirror_mode": {
    "name": "ipython",
    "version": 3
   },
   "file_extension": ".py",
   "mimetype": "text/x-python",
   "name": "python",
   "nbconvert_exporter": "python",
   "pygments_lexer": "ipython3",
   "version": "3.6.9"
  }
 },
 "nbformat": 4,
 "nbformat_minor": 4
}
