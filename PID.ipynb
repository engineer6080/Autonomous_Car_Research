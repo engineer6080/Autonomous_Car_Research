{
 "cells": [
  {
   "cell_type": "code",
   "execution_count": 1,
   "metadata": {},
   "outputs": [],
   "source": [
    "%matplotlib inline \n",
    "%load_ext autoreload\n",
    "%autoreload 2\n",
    "\n",
    "import time\n",
    "from approxeng.input.selectbinder import ControllerResource\n",
    "from IPython.display import display, clear_output\n",
    "from jetcam.utils import bgr8_to_jpeg\n",
    "import numpy as np\n",
    "import cv2\n",
    "import ipywidgets\n",
    "import serial"
   ]
  },
  {
   "cell_type": "code",
   "execution_count": 3,
   "metadata": {},
   "outputs": [],
   "source": [
    "from camera import Camera\n",
    "from CV_FIND import CV_IMG_PROCESSOR\n",
    "\n",
    "width = int(244)\n",
    "height = int(244)\n",
    "    \n",
    "camera = Camera(width=width, height=height, capture_width=1280, capture_height=720, capture_fps=60, capture_flip=2)\n",
    "main_cv = CV_IMG_PROCESSOR()"
   ]
  },
  {
   "cell_type": "code",
   "execution_count": 10,
   "metadata": {},
   "outputs": [
    {
     "data": {
      "application/vnd.jupyter.widget-view+json": {
       "model_id": "837b5338821d472b8278f038783c2e9f",
       "version_major": 2,
       "version_minor": 0
      },
      "text/plain": [
       "Image(value=b'', format='jpeg', height='122.0', width='244')"
      ]
     },
     "metadata": {},
     "output_type": "display_data"
    },
    {
     "name": "stdout",
     "output_type": "stream",
     "text": [
      "EXIT\n",
      "average(sec):0.01, fps:117.59, time:116.12\n"
     ]
    }
   ],
   "source": [
    "BENCHMARK = True\n",
    "SHOW_LIVE = True\n",
    "RECORD = True\n",
    "Frames = []\n",
    "\n",
    "if(SHOW_LIVE):\n",
    "    widget_run = ipywidgets.Image(format='jpeg', width=width, height=height/2)\n",
    "    display(widget_run)\n",
    "\n",
    "if(BENCHMARK):\n",
    "    times = []\n",
    "    total_start_time = time.time()\n",
    "        \n",
    "def update_images():\n",
    "    img = camera.value\n",
    "    main_cv.getSteering(img,\"canny\")    \n",
    "    main_cv.raw_img = img\n",
    "        \n",
    "with serial.Serial('/dev/ttyUSB0', 1000000, timeout=1) as ser:\n",
    "    with ControllerResource() as joystick:\n",
    "        \n",
    "        CONST_TIME = 0.017\n",
    "        P = 4\n",
    "        D = 0.02\n",
    "        error_old = 0\n",
    "        STEERING = 90\n",
    "        THROTTLE = int(90)\n",
    "        START = 0\n",
    "        start_time = 0\n",
    "        cumulative_times = []\n",
    "        speeds = []\n",
    "        \n",
    "        \n",
    "        while joystick.connected:\n",
    "            if(joystick['cross'] is not None):  # SQUARE EXIT\n",
    "                output = \"{:05d}-{:05d}\\n\".format(int(90), int(90))\n",
    "                ser.write(bytes(output,'utf-8'))\n",
    "                print(\"EXIT\")\n",
    "                ser.close()\n",
    "                break\n",
    "                \n",
    "            if(BENCHMARK):\n",
    "                fps_timer = time.time()\n",
    "                \n",
    "            # PD\n",
    "            error = (main_cv.angle-90) # -90 0 90\n",
    "            P_T = error * P\n",
    "            D_T = ((error-error_old)/CONST_TIME)*D\n",
    "            STEERING = int(np.clip(((P_T-D_T)+90), 2, 178))\n",
    "            error_old = error\n",
    "            \n",
    "            if(joystick['square'] is not None):# LB for timer control\n",
    "                if(START):\n",
    "                    cumulative_times.append((time.time()-start_time))\n",
    "                    print(\"Pause timer\", len(lap_times))\n",
    "                    START = 0 \n",
    "                else:\n",
    "                    print(\"Start timer\")\n",
    "                    start_time = time.time()\n",
    "                    START = 1\n",
    "                time.sleep(0.2)\n",
    "                \n",
    "            #if(START):\n",
    "                # negative for auto throttle\n",
    "            #    THROTTLE = int(-95)\n",
    "            #else:\n",
    "            #STEERING = int((joystick['rx']+1)/2*180)\n",
    "            THROTTLE = int((joystick['ly']+1)/2*180)\n",
    "            \n",
    "            # Some manual \n",
    "            if(joystick['l1'] is not None):# L trigger for manual\n",
    "                STEERING = int((joystick['rx']+1)/2*180)\n",
    "                THROTTLE = int((joystick['ly']+1)/2*180)\n",
    "            \n",
    "            update_images()\n",
    "                \n",
    "            if(SHOW_LIVE):  \n",
    "                output = \"{:05d}-{:05d}\\n\".format(int(THROTTLE), int(STEERING))\n",
    "                ser.write(bytes(output,'utf-8'))\n",
    "                speed = (ser.readline())#.decode('utf-8').strip()   # read a '\\n' terminated line\n",
    "                if not speed:\n",
    "                    speed = 0\n",
    "                    \n",
    "                info_str = \"STEERING {:1d}, THROTTLE {:1d}, SPEED {:1d}\".format(int(STEERING), int(abs(THROTTLE)), int(speed))\n",
    "                preview = main_cv.preview_img\n",
    "                cv2.putText(preview, info_str, (0, 15), cv2.FONT_HERSHEY_SIMPLEX, 0.3, (255, 255, 255))\n",
    "                widget_run.value = bgr8_to_jpeg(preview)\n",
    "                if(RECORD and START):\n",
    "                    Frames.append(preview)\n",
    "                    speeds.append(speed)\n",
    "                \n",
    "            if(BENCHMARK):\n",
    "                delta = (time.time() - fps_timer)\n",
    "                times.append(delta)\n",
    "\n",
    "if(BENCHMARK):\n",
    "    mean_delta = np.array(times).mean()\n",
    "    fps = 1 / mean_delta\n",
    "    total_time = time.time()-total_start_time\n",
    "    print('average(sec):{:.2f}, fps:{:.2f}, time:{:.2f}'.format(mean_delta, fps, total_time))"
   ]
  },
  {
   "cell_type": "code",
   "execution_count": 82,
   "metadata": {},
   "outputs": [
    {
     "name": "stdout",
     "output_type": "stream",
     "text": [
      "[69.48931622505188]\n",
      "TOTAL 69.48931622505188\n",
      "b'66\\r\\n'\n",
      "87.67291311754686\n"
     ]
    }
   ],
   "source": [
    "# OOPS\n",
    "print(cumulative_times)\n",
    "print(\"TOTAL\", sum(cumulative_times))\n",
    "print(speeds[100])\n",
    "result = []\n",
    "for b in speeds:\n",
    "    result.append(int(b))\n",
    "    \n",
    "print(np.mean(result))"
   ]
  },
  {
   "cell_type": "code",
   "execution_count": 81,
   "metadata": {},
   "outputs": [
    {
     "data": {
      "application/vnd.jupyter.widget-view+json": {
       "model_id": "d2e51db99ad046c187a45dc27df6a0de",
       "version_major": 2,
       "version_minor": 0
      },
      "text/plain": [
       "Image(value=b'', format='jpeg', height='122.0', width='244')"
      ]
     },
     "metadata": {},
     "output_type": "display_data"
    }
   ],
   "source": [
    "preview_widget = ipywidgets.Image(format='jpeg', width=width, height=height/2)\n",
    "display(preview_widget)\n",
    "#out = cv2.VideoWriter('pid_onboard.avi',cv2.VideoWriter_fourcc('M','J','P','G'), 100, (width,height))\n",
    "out = cv2.VideoWriter(\"pid.avi\",cv2.VideoWriter_fourcc(*\"MJPG\"), 120,(244,244),0)\n",
    "for f in Frames:\n",
    "    out.write(f.astype('uint8'))\n",
    "    preview_widget.value = bgr8_to_jpeg(f)\n",
    "    \n",
    "out.release()"
   ]
  },
  {
   "cell_type": "code",
   "execution_count": 11,
   "metadata": {},
   "outputs": [],
   "source": [
    "camera.unobserve_all() \n",
    "camera.stop()\n",
    "Frames.clear()"
   ]
  },
  {
   "cell_type": "code",
   "execution_count": null,
   "metadata": {},
   "outputs": [],
   "source": []
  }
 ],
 "metadata": {
  "kernelspec": {
   "display_name": "Python 3",
   "language": "python",
   "name": "python3"
  },
  "language_info": {
   "codemirror_mode": {
    "name": "ipython",
    "version": 3
   },
   "file_extension": ".py",
   "mimetype": "text/x-python",
   "name": "python",
   "nbconvert_exporter": "python",
   "pygments_lexer": "ipython3",
   "version": "3.6.9"
  }
 },
 "nbformat": 4,
 "nbformat_minor": 4
}
